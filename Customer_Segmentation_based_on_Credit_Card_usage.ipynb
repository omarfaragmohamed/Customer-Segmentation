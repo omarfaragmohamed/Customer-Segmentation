{
  "nbformat": 4,
  "nbformat_minor": 0,
  "metadata": {
    "colab": {
      "name": "Customer Segmentation based on Credit Card usage.ipynb",
      "provenance": []
    },
    "kernelspec": {
      "name": "python3",
      "display_name": "Python 3"
    }
  },
  "cells": [
    {
      "cell_type": "markdown",
      "metadata": {
        "id": "i3_SOqZ6j4zt"
      },
      "source": [
        "#**Customer Segmentation**     \n",
        "\n",
        "**by: Omar Farag**\n",
        "\n",
        "###**About**\n",
        "\n",
        "#### Just trying to apply k-means model for clustering problem \n",
        "\n",
        "#### The dataset was obtained from the below link \n",
        "#### This is bank accounts data and the goal is a Customer Segmentation on Credit Card usage .\n",
        "\n",
        "### **Credits**\n",
        "\n",
        "#### * Some code in this notebook and the used data back to the following:\n",
        "#####   https://www.kaggle.com/mostafaomar/cluster-for-credit-card/data?select=CC+GENERAL.csv\n",
        "##### You are so welcome to add your comments and edits."
      ]
    },
    {
      "cell_type": "markdown",
      "metadata": {
        "id": "YiEhIlcHmTl7"
      },
      "source": [
        "### List of Contents\n",
        "* 1. Importing Libraries\n",
        "* 2. Loading and Exploring the Data\n",
        "* 3. Preparing the data\n",
        "* 4. Building the Model\n",
        "* 5. Fitting the Model\n",
        "* 6. Showing the clusters"
      ]
    },
    {
      "cell_type": "markdown",
      "metadata": {
        "id": "uaxYOyFEmEbJ"
      },
      "source": [
        "#### Importing Liberaries"
      ]
    },
    {
      "cell_type": "code",
      "metadata": {
        "id": "1GI6fA9fkort"
      },
      "source": [
        "import numpy as np \n",
        "import pandas as pd \n",
        "import matplotlib.pyplot as plt \n",
        "\n",
        "from sklearn.cluster import KMeans"
      ],
      "execution_count": 1,
      "outputs": []
    },
    {
      "cell_type": "markdown",
      "metadata": {
        "id": "nbknl390lIBk"
      },
      "source": [
        "#### Loading and Exploring the Data"
      ]
    },
    {
      "cell_type": "code",
      "metadata": {
        "id": "XxjNbm0dkIGu",
        "outputId": "44d3928a-3c01-43ff-ae40-bc336e68ceab",
        "colab": {
          "base_uri": "https://localhost:8080/",
          "height": 224
        }
      },
      "source": [
        "dataset = pd.read_csv('CC GENERAL.csv')\n",
        "dataset.head()"
      ],
      "execution_count": 2,
      "outputs": [
        {
          "output_type": "execute_result",
          "data": {
            "text/html": [
              "<div>\n",
              "<style scoped>\n",
              "    .dataframe tbody tr th:only-of-type {\n",
              "        vertical-align: middle;\n",
              "    }\n",
              "\n",
              "    .dataframe tbody tr th {\n",
              "        vertical-align: top;\n",
              "    }\n",
              "\n",
              "    .dataframe thead th {\n",
              "        text-align: right;\n",
              "    }\n",
              "</style>\n",
              "<table border=\"1\" class=\"dataframe\">\n",
              "  <thead>\n",
              "    <tr style=\"text-align: right;\">\n",
              "      <th></th>\n",
              "      <th>CUST_ID</th>\n",
              "      <th>BALANCE</th>\n",
              "      <th>BALANCE_FREQUENCY</th>\n",
              "      <th>PURCHASES</th>\n",
              "      <th>ONEOFF_PURCHASES</th>\n",
              "      <th>INSTALLMENTS_PURCHASES</th>\n",
              "      <th>CASH_ADVANCE</th>\n",
              "      <th>PURCHASES_FREQUENCY</th>\n",
              "      <th>ONEOFF_PURCHASES_FREQUENCY</th>\n",
              "      <th>PURCHASES_INSTALLMENTS_FREQUENCY</th>\n",
              "      <th>CASH_ADVANCE_FREQUENCY</th>\n",
              "      <th>CASH_ADVANCE_TRX</th>\n",
              "      <th>PURCHASES_TRX</th>\n",
              "      <th>CREDIT_LIMIT</th>\n",
              "      <th>PAYMENTS</th>\n",
              "      <th>MINIMUM_PAYMENTS</th>\n",
              "      <th>PRC_FULL_PAYMENT</th>\n",
              "      <th>TENURE</th>\n",
              "    </tr>\n",
              "  </thead>\n",
              "  <tbody>\n",
              "    <tr>\n",
              "      <th>0</th>\n",
              "      <td>C10001</td>\n",
              "      <td>40.900749</td>\n",
              "      <td>0.818182</td>\n",
              "      <td>95.40</td>\n",
              "      <td>0.00</td>\n",
              "      <td>95.4</td>\n",
              "      <td>0.000000</td>\n",
              "      <td>0.166667</td>\n",
              "      <td>0.000000</td>\n",
              "      <td>0.083333</td>\n",
              "      <td>0.000000</td>\n",
              "      <td>0</td>\n",
              "      <td>2</td>\n",
              "      <td>1000.0</td>\n",
              "      <td>201.802084</td>\n",
              "      <td>139.509787</td>\n",
              "      <td>0.000000</td>\n",
              "      <td>12</td>\n",
              "    </tr>\n",
              "    <tr>\n",
              "      <th>1</th>\n",
              "      <td>C10002</td>\n",
              "      <td>3202.467416</td>\n",
              "      <td>0.909091</td>\n",
              "      <td>0.00</td>\n",
              "      <td>0.00</td>\n",
              "      <td>0.0</td>\n",
              "      <td>6442.945483</td>\n",
              "      <td>0.000000</td>\n",
              "      <td>0.000000</td>\n",
              "      <td>0.000000</td>\n",
              "      <td>0.250000</td>\n",
              "      <td>4</td>\n",
              "      <td>0</td>\n",
              "      <td>7000.0</td>\n",
              "      <td>4103.032597</td>\n",
              "      <td>1072.340217</td>\n",
              "      <td>0.222222</td>\n",
              "      <td>12</td>\n",
              "    </tr>\n",
              "    <tr>\n",
              "      <th>2</th>\n",
              "      <td>C10003</td>\n",
              "      <td>2495.148862</td>\n",
              "      <td>1.000000</td>\n",
              "      <td>773.17</td>\n",
              "      <td>773.17</td>\n",
              "      <td>0.0</td>\n",
              "      <td>0.000000</td>\n",
              "      <td>1.000000</td>\n",
              "      <td>1.000000</td>\n",
              "      <td>0.000000</td>\n",
              "      <td>0.000000</td>\n",
              "      <td>0</td>\n",
              "      <td>12</td>\n",
              "      <td>7500.0</td>\n",
              "      <td>622.066742</td>\n",
              "      <td>627.284787</td>\n",
              "      <td>0.000000</td>\n",
              "      <td>12</td>\n",
              "    </tr>\n",
              "    <tr>\n",
              "      <th>3</th>\n",
              "      <td>C10004</td>\n",
              "      <td>1666.670542</td>\n",
              "      <td>0.636364</td>\n",
              "      <td>1499.00</td>\n",
              "      <td>1499.00</td>\n",
              "      <td>0.0</td>\n",
              "      <td>205.788017</td>\n",
              "      <td>0.083333</td>\n",
              "      <td>0.083333</td>\n",
              "      <td>0.000000</td>\n",
              "      <td>0.083333</td>\n",
              "      <td>1</td>\n",
              "      <td>1</td>\n",
              "      <td>7500.0</td>\n",
              "      <td>0.000000</td>\n",
              "      <td>NaN</td>\n",
              "      <td>0.000000</td>\n",
              "      <td>12</td>\n",
              "    </tr>\n",
              "    <tr>\n",
              "      <th>4</th>\n",
              "      <td>C10005</td>\n",
              "      <td>817.714335</td>\n",
              "      <td>1.000000</td>\n",
              "      <td>16.00</td>\n",
              "      <td>16.00</td>\n",
              "      <td>0.0</td>\n",
              "      <td>0.000000</td>\n",
              "      <td>0.083333</td>\n",
              "      <td>0.083333</td>\n",
              "      <td>0.000000</td>\n",
              "      <td>0.000000</td>\n",
              "      <td>0</td>\n",
              "      <td>1</td>\n",
              "      <td>1200.0</td>\n",
              "      <td>678.334763</td>\n",
              "      <td>244.791237</td>\n",
              "      <td>0.000000</td>\n",
              "      <td>12</td>\n",
              "    </tr>\n",
              "  </tbody>\n",
              "</table>\n",
              "</div>"
            ],
            "text/plain": [
              "  CUST_ID      BALANCE  ...  PRC_FULL_PAYMENT  TENURE\n",
              "0  C10001    40.900749  ...          0.000000      12\n",
              "1  C10002  3202.467416  ...          0.222222      12\n",
              "2  C10003  2495.148862  ...          0.000000      12\n",
              "3  C10004  1666.670542  ...          0.000000      12\n",
              "4  C10005   817.714335  ...          0.000000      12\n",
              "\n",
              "[5 rows x 18 columns]"
            ]
          },
          "metadata": {
            "tags": []
          },
          "execution_count": 2
        }
      ]
    },
    {
      "cell_type": "code",
      "metadata": {
        "id": "S4K-uOIjlCnv",
        "outputId": "5474b7fd-7bcf-40d3-8f09-fb8034ae178e",
        "colab": {
          "base_uri": "https://localhost:8080/"
        }
      },
      "source": [
        "dataset.info()"
      ],
      "execution_count": 3,
      "outputs": [
        {
          "output_type": "stream",
          "text": [
            "<class 'pandas.core.frame.DataFrame'>\n",
            "RangeIndex: 8950 entries, 0 to 8949\n",
            "Data columns (total 18 columns):\n",
            " #   Column                            Non-Null Count  Dtype  \n",
            "---  ------                            --------------  -----  \n",
            " 0   CUST_ID                           8950 non-null   object \n",
            " 1   BALANCE                           8950 non-null   float64\n",
            " 2   BALANCE_FREQUENCY                 8950 non-null   float64\n",
            " 3   PURCHASES                         8950 non-null   float64\n",
            " 4   ONEOFF_PURCHASES                  8950 non-null   float64\n",
            " 5   INSTALLMENTS_PURCHASES            8950 non-null   float64\n",
            " 6   CASH_ADVANCE                      8950 non-null   float64\n",
            " 7   PURCHASES_FREQUENCY               8950 non-null   float64\n",
            " 8   ONEOFF_PURCHASES_FREQUENCY        8950 non-null   float64\n",
            " 9   PURCHASES_INSTALLMENTS_FREQUENCY  8950 non-null   float64\n",
            " 10  CASH_ADVANCE_FREQUENCY            8950 non-null   float64\n",
            " 11  CASH_ADVANCE_TRX                  8950 non-null   int64  \n",
            " 12  PURCHASES_TRX                     8950 non-null   int64  \n",
            " 13  CREDIT_LIMIT                      8949 non-null   float64\n",
            " 14  PAYMENTS                          8950 non-null   float64\n",
            " 15  MINIMUM_PAYMENTS                  8637 non-null   float64\n",
            " 16  PRC_FULL_PAYMENT                  8950 non-null   float64\n",
            " 17  TENURE                            8950 non-null   int64  \n",
            "dtypes: float64(14), int64(3), object(1)\n",
            "memory usage: 1.2+ MB\n"
          ],
          "name": "stdout"
        }
      ]
    },
    {
      "cell_type": "markdown",
      "metadata": {
        "id": "uKonKHC4lRZJ"
      },
      "source": [
        "##### Check for NULL Values"
      ]
    },
    {
      "cell_type": "code",
      "metadata": {
        "id": "HmfmnB0Hm_JM",
        "outputId": "7a7e7fad-7ddb-45bb-99ba-64de543e7af5",
        "colab": {
          "base_uri": "https://localhost:8080/"
        }
      },
      "source": [
        "dataset.isnull().sum()"
      ],
      "execution_count": 4,
      "outputs": [
        {
          "output_type": "execute_result",
          "data": {
            "text/plain": [
              "CUST_ID                               0\n",
              "BALANCE                               0\n",
              "BALANCE_FREQUENCY                     0\n",
              "PURCHASES                             0\n",
              "ONEOFF_PURCHASES                      0\n",
              "INSTALLMENTS_PURCHASES                0\n",
              "CASH_ADVANCE                          0\n",
              "PURCHASES_FREQUENCY                   0\n",
              "ONEOFF_PURCHASES_FREQUENCY            0\n",
              "PURCHASES_INSTALLMENTS_FREQUENCY      0\n",
              "CASH_ADVANCE_FREQUENCY                0\n",
              "CASH_ADVANCE_TRX                      0\n",
              "PURCHASES_TRX                         0\n",
              "CREDIT_LIMIT                          1\n",
              "PAYMENTS                              0\n",
              "MINIMUM_PAYMENTS                    313\n",
              "PRC_FULL_PAYMENT                      0\n",
              "TENURE                                0\n",
              "dtype: int64"
            ]
          },
          "metadata": {
            "tags": []
          },
          "execution_count": 4
        }
      ]
    },
    {
      "cell_type": "code",
      "metadata": {
        "id": "OL1g6M8lwTpH"
      },
      "source": [
        "dataset['CREDIT_LIMIT']= dataset['CREDIT_LIMIT'].fillna(dataset['CREDIT_LIMIT'].mean())\n",
        "dataset['MINIMUM_PAYMENTS']=dataset['MINIMUM_PAYMENTS'].fillna(dataset['MINIMUM_PAYMENTS'].mean())"
      ],
      "execution_count": 5,
      "outputs": []
    },
    {
      "cell_type": "code",
      "metadata": {
        "id": "oOeCslfqy6VF",
        "outputId": "47d361cd-9bd6-428f-9644-9d9ac6f1f353",
        "colab": {
          "base_uri": "https://localhost:8080/"
        }
      },
      "source": [
        "dataset.isnull().sum()"
      ],
      "execution_count": 6,
      "outputs": [
        {
          "output_type": "execute_result",
          "data": {
            "text/plain": [
              "CUST_ID                             0\n",
              "BALANCE                             0\n",
              "BALANCE_FREQUENCY                   0\n",
              "PURCHASES                           0\n",
              "ONEOFF_PURCHASES                    0\n",
              "INSTALLMENTS_PURCHASES              0\n",
              "CASH_ADVANCE                        0\n",
              "PURCHASES_FREQUENCY                 0\n",
              "ONEOFF_PURCHASES_FREQUENCY          0\n",
              "PURCHASES_INSTALLMENTS_FREQUENCY    0\n",
              "CASH_ADVANCE_FREQUENCY              0\n",
              "CASH_ADVANCE_TRX                    0\n",
              "PURCHASES_TRX                       0\n",
              "CREDIT_LIMIT                        0\n",
              "PAYMENTS                            0\n",
              "MINIMUM_PAYMENTS                    0\n",
              "PRC_FULL_PAYMENT                    0\n",
              "TENURE                              0\n",
              "dtype: int64"
            ]
          },
          "metadata": {
            "tags": []
          },
          "execution_count": 6
        }
      ]
    },
    {
      "cell_type": "code",
      "metadata": {
        "id": "QkDk1mB6zDXU"
      },
      "source": [
        "dataset.drop(['CUST_ID'], axis=1, inplace=True)\n"
      ],
      "execution_count": 7,
      "outputs": []
    },
    {
      "cell_type": "markdown",
      "metadata": {
        "id": "wUtVTNEHMdAG"
      },
      "source": [
        "#### Discover outliers"
      ]
    },
    {
      "cell_type": "markdown",
      "metadata": {
        "id": "YfLWtDV6MHdI"
      },
      "source": [
        "IQR score -\n",
        "Box plot use the IQR method to display data and outliers(shape of the data) but in order to be get a list of identified outlier, we will need to use the mathematical formula and retrieve the outlier data.\n",
        "Ref : https://towardsdatascience.com/ways-to-detect-and-remove-the-outliers-404d16608dba"
      ]
    },
    {
      "cell_type": "markdown",
      "metadata": {
        "id": "eZboC74lMX2j"
      },
      "source": [
        "#### IQR for each column"
      ]
    },
    {
      "cell_type": "code",
      "metadata": {
        "id": "JlCaXL4kHSTa",
        "outputId": "2c0bf957-baf1-4641-8ebe-29c2ddb47da8",
        "colab": {
          "base_uri": "https://localhost:8080/"
        }
      },
      "source": [
        "Q1 = dataset.quantile(0.25)\n",
        "Q3 = dataset.quantile(0.75)\n",
        "IQR = Q3 - Q1\n",
        "print(IQR)"
      ],
      "execution_count": 19,
      "outputs": [
        {
          "output_type": "stream",
          "text": [
            "BALANCE                             1925.858120\n",
            "BALANCE_FREQUENCY                      0.111111\n",
            "PURCHASES                           1070.495000\n",
            "ONEOFF_PURCHASES                     577.405000\n",
            "INSTALLMENTS_PURCHASES               468.637500\n",
            "CASH_ADVANCE                        1113.821139\n",
            "PURCHASES_FREQUENCY                    0.833334\n",
            "ONEOFF_PURCHASES_FREQUENCY             0.300000\n",
            "PURCHASES_INSTALLMENTS_FREQUENCY       0.750000\n",
            "CASH_ADVANCE_FREQUENCY                 0.222222\n",
            "CASH_ADVANCE_TRX                       4.000000\n",
            "PURCHASES_TRX                         16.000000\n",
            "CREDIT_LIMIT                        4900.000000\n",
            "PAYMENTS                            1517.858151\n",
            "MINIMUM_PAYMENTS                     693.348888\n",
            "PRC_FULL_PAYMENT                       0.142857\n",
            "TENURE                                 0.000000\n",
            "dtype: float64\n"
          ],
          "name": "stdout"
        }
      ]
    },
    {
      "cell_type": "markdown",
      "metadata": {
        "id": "5Ho16SUEMfn5"
      },
      "source": [
        "#### Handeling Outliers"
      ]
    },
    {
      "cell_type": "markdown",
      "metadata": {
        "id": "x86J1qSRL6f2"
      },
      "source": [
        "we can use previously calculated IQR score to filter out the outliers by keeping only valid values."
      ]
    },
    {
      "cell_type": "code",
      "metadata": {
        "id": "4yghy9SCJpcz",
        "outputId": "7a9e1530-8ae7-424a-8066-57f8fe697bba",
        "colab": {
          "base_uri": "https://localhost:8080/"
        }
      },
      "source": [
        "dataset_out = dataset[~((dataset < (Q1 - 1.5 * IQR)) |(dataset > (Q3 + 1.5 * IQR))).any(axis=1)]\n",
        "dataset_out.shape"
      ],
      "execution_count": 22,
      "outputs": [
        {
          "output_type": "execute_result",
          "data": {
            "text/plain": [
              "(3008, 17)"
            ]
          },
          "metadata": {
            "tags": []
          },
          "execution_count": 22
        }
      ]
    },
    {
      "cell_type": "code",
      "metadata": {
        "id": "LxGHeFTwOxgK",
        "outputId": "e6f85cb2-7cac-4a02-bb99-152951cbfae6",
        "colab": {
          "base_uri": "https://localhost:8080/"
        }
      },
      "source": [
        "data= dataset.drop(index=dataset_out.index)\n",
        "data= data.reset_index()\n",
        "data.shape"
      ],
      "execution_count": 23,
      "outputs": [
        {
          "output_type": "execute_result",
          "data": {
            "text/plain": [
              "(5942, 18)"
            ]
          },
          "metadata": {
            "tags": []
          },
          "execution_count": 23
        }
      ]
    },
    {
      "cell_type": "code",
      "metadata": {
        "id": "FxSgzHzmM-dw",
        "outputId": "03c981df-9e59-4313-9c4c-a7851231e119",
        "colab": {
          "base_uri": "https://localhost:8080/",
          "height": 224
        }
      },
      "source": [
        "from sklearn.preprocessing import StandardScaler\n",
        "sc = StandardScaler()\n",
        "data = sc.fit_transform(data)\n",
        "data = pd.DataFrame(data)\n",
        "data.head()"
      ],
      "execution_count": 24,
      "outputs": [
        {
          "output_type": "execute_result",
          "data": {
            "text/html": [
              "<div>\n",
              "<style scoped>\n",
              "    .dataframe tbody tr th:only-of-type {\n",
              "        vertical-align: middle;\n",
              "    }\n",
              "\n",
              "    .dataframe tbody tr th {\n",
              "        vertical-align: top;\n",
              "    }\n",
              "\n",
              "    .dataframe thead th {\n",
              "        text-align: right;\n",
              "    }\n",
              "</style>\n",
              "<table border=\"1\" class=\"dataframe\">\n",
              "  <thead>\n",
              "    <tr style=\"text-align: right;\">\n",
              "      <th></th>\n",
              "      <th>0</th>\n",
              "      <th>1</th>\n",
              "      <th>2</th>\n",
              "      <th>3</th>\n",
              "      <th>4</th>\n",
              "      <th>5</th>\n",
              "      <th>6</th>\n",
              "      <th>7</th>\n",
              "      <th>8</th>\n",
              "      <th>9</th>\n",
              "      <th>10</th>\n",
              "      <th>11</th>\n",
              "      <th>12</th>\n",
              "      <th>13</th>\n",
              "      <th>14</th>\n",
              "      <th>15</th>\n",
              "      <th>16</th>\n",
              "      <th>17</th>\n",
              "    </tr>\n",
              "  </thead>\n",
              "  <tbody>\n",
              "    <tr>\n",
              "      <th>0</th>\n",
              "      <td>-1.684653</td>\n",
              "      <td>0.601267</td>\n",
              "      <td>0.305138</td>\n",
              "      <td>-0.518836</td>\n",
              "      <td>-0.396741</td>\n",
              "      <td>-0.492435</td>\n",
              "      <td>2.085380</td>\n",
              "      <td>-1.329320</td>\n",
              "      <td>-0.733360</td>\n",
              "      <td>-0.978653</td>\n",
              "      <td>0.431937</td>\n",
              "      <td>0.000769</td>\n",
              "      <td>-0.625993</td>\n",
              "      <td>0.466214</td>\n",
              "      <td>0.556369</td>\n",
              "      <td>0.005212</td>\n",
              "      <td>0.014769</td>\n",
              "      <td>0.457994</td>\n",
              "    </tr>\n",
              "    <tr>\n",
              "      <th>1</th>\n",
              "      <td>-1.684275</td>\n",
              "      <td>0.309786</td>\n",
              "      <td>0.637779</td>\n",
              "      <td>-0.215019</td>\n",
              "      <td>-0.008992</td>\n",
              "      <td>-0.492435</td>\n",
              "      <td>-0.508529</td>\n",
              "      <td>1.132352</td>\n",
              "      <td>2.240290</td>\n",
              "      <td>-0.978653</td>\n",
              "      <td>-0.672675</td>\n",
              "      <td>-0.493398</td>\n",
              "      <td>-0.215141</td>\n",
              "      <td>0.592475</td>\n",
              "      <td>-0.459671</td>\n",
              "      <td>-0.152121</td>\n",
              "      <td>-0.642001</td>\n",
              "      <td>0.457994</td>\n",
              "    </tr>\n",
              "    <tr>\n",
              "      <th>2</th>\n",
              "      <td>-1.683897</td>\n",
              "      <td>-0.031624</td>\n",
              "      <td>-0.692786</td>\n",
              "      <td>0.070195</td>\n",
              "      <td>0.355014</td>\n",
              "      <td>-0.492435</td>\n",
              "      <td>-0.425679</td>\n",
              "      <td>-1.124181</td>\n",
              "      <td>-0.485557</td>\n",
              "      <td>-0.978653</td>\n",
              "      <td>-0.304472</td>\n",
              "      <td>-0.369856</td>\n",
              "      <td>-0.591755</td>\n",
              "      <td>0.592475</td>\n",
              "      <td>-0.641243</td>\n",
              "      <td>-0.068366</td>\n",
              "      <td>-0.642001</td>\n",
              "      <td>0.457994</td>\n",
              "    </tr>\n",
              "    <tr>\n",
              "      <th>3</th>\n",
              "      <td>-1.683142</td>\n",
              "      <td>0.027371</td>\n",
              "      <td>0.637779</td>\n",
              "      <td>0.005075</td>\n",
              "      <td>-0.396741</td>\n",
              "      <td>0.747309</td>\n",
              "      <td>-0.508529</td>\n",
              "      <td>0.311796</td>\n",
              "      <td>-0.733360</td>\n",
              "      <td>0.462241</td>\n",
              "      <td>-0.672675</td>\n",
              "      <td>-0.493398</td>\n",
              "      <td>-0.352091</td>\n",
              "      <td>-0.846900</td>\n",
              "      <td>-0.232588</td>\n",
              "      <td>0.477120</td>\n",
              "      <td>-0.642001</td>\n",
              "      <td>0.457994</td>\n",
              "    </tr>\n",
              "    <tr>\n",
              "      <th>4</th>\n",
              "      <td>-1.682764</td>\n",
              "      <td>-0.459957</td>\n",
              "      <td>0.637779</td>\n",
              "      <td>2.267571</td>\n",
              "      <td>2.814206</td>\n",
              "      <td>0.147652</td>\n",
              "      <td>-0.508529</td>\n",
              "      <td>1.132352</td>\n",
              "      <td>2.240290</td>\n",
              "      <td>1.491452</td>\n",
              "      <td>-0.672675</td>\n",
              "      <td>-0.493398</td>\n",
              "      <td>1.565218</td>\n",
              "      <td>2.107606</td>\n",
              "      <td>1.213483</td>\n",
              "      <td>-0.303856</td>\n",
              "      <td>2.313469</td>\n",
              "      <td>0.457994</td>\n",
              "    </tr>\n",
              "  </tbody>\n",
              "</table>\n",
              "</div>"
            ],
            "text/plain": [
              "         0         1         2   ...        15        16        17\n",
              "0 -1.684653  0.601267  0.305138  ...  0.005212  0.014769  0.457994\n",
              "1 -1.684275  0.309786  0.637779  ... -0.152121 -0.642001  0.457994\n",
              "2 -1.683897 -0.031624 -0.692786  ... -0.068366 -0.642001  0.457994\n",
              "3 -1.683142  0.027371  0.637779  ...  0.477120 -0.642001  0.457994\n",
              "4 -1.682764 -0.459957  0.637779  ... -0.303856  2.313469  0.457994\n",
              "\n",
              "[5 rows x 18 columns]"
            ]
          },
          "metadata": {
            "tags": []
          },
          "execution_count": 24
        }
      ]
    },
    {
      "cell_type": "code",
      "metadata": {
        "id": "O4Jj8GAjVbrC",
        "outputId": "8f3dcb28-8074-4705-f42b-3c1b5c56238e",
        "colab": {
          "base_uri": "https://localhost:8080/"
        }
      },
      "source": [
        "data.shape"
      ],
      "execution_count": 25,
      "outputs": [
        {
          "output_type": "execute_result",
          "data": {
            "text/plain": [
              "(5942, 18)"
            ]
          },
          "metadata": {
            "tags": []
          },
          "execution_count": 25
        }
      ]
    },
    {
      "cell_type": "markdown",
      "metadata": {
        "id": "xjaf6IHymhQO"
      },
      "source": [
        "#### The Elbow Method"
      ]
    },
    {
      "cell_type": "code",
      "metadata": {
        "id": "GDzfEIGc_Tuc",
        "outputId": "9707710b-fa62-49a4-cfe1-3a8fca913448",
        "colab": {
          "base_uri": "https://localhost:8080/",
          "height": 295
        }
      },
      "source": [
        "from sklearn.cluster import KMeans\n",
        "cs = []\n",
        "for i in range(1, 11):\n",
        "    kmeans = KMeans(n_clusters = i, init = 'k-means++', max_iter = 300, n_init = 10, random_state = 0)\n",
        "    kmeans.fit(data)\n",
        "    cs.append(kmeans.inertia_)\n",
        "plt.plot(range(1, 11), cs)\n",
        "plt.title('The Elbow Method')\n",
        "plt.xlabel('Nclusters')\n",
        "plt.ylabel('CS')\n",
        "plt.show()"
      ],
      "execution_count": 26,
      "outputs": [
        {
          "output_type": "display_data",
          "data": {
            "image/png": "[encoded data removed]",
            "text/plain": [
              "<Figure size 432x288 with 1 Axes>"
            ]
          },
          "metadata": {
            "tags": [],
            "needs_background": "light"
          }
        }
      ]
    },
    {
      "cell_type": "markdown",
      "metadata": {
        "id": "77EPAR5xmpSt"
      },
      "source": [
        "4 Clusters sounds good for clustering"
      ]
    },
    {
      "cell_type": "code",
      "metadata": {
        "id": "SgCvgIRNVHAP",
        "outputId": "cef894a7-b3f3-4462-dccf-f86dc12f7287",
        "colab": {
          "base_uri": "https://localhost:8080/"
        }
      },
      "source": [
        "data.shape"
      ],
      "execution_count": 35,
      "outputs": [
        {
          "output_type": "execute_result",
          "data": {
            "text/plain": [
              "(5942, 19)"
            ]
          },
          "metadata": {
            "tags": []
          },
          "execution_count": 35
        }
      ]
    },
    {
      "cell_type": "markdown",
      "metadata": {
        "id": "-Ouetc6-m24-"
      },
      "source": [
        "#### Building and fitting the Model"
      ]
    },
    {
      "cell_type": "code",
      "metadata": {
        "id": "us7VRktDAUpU",
        "outputId": "d820f0d9-fc16-4bf1-88f3-6aa461f1a5e3",
        "colab": {
          "base_uri": "https://localhost:8080/"
        }
      },
      "source": [
        "kmeans = KMeans(n_clusters = 4, random_state = 0)\n",
        "kmeans_predictions = kmeans.fit_predict(data)\n",
        "kmeans_predictions"
      ],
      "execution_count": 28,
      "outputs": [
        {
          "output_type": "execute_result",
          "data": {
            "text/plain": [
              "array([0, 2, 1, ..., 1, 1, 1], dtype=int32)"
            ]
          },
          "metadata": {
            "tags": []
          },
          "execution_count": 28
        }
      ]
    },
    {
      "cell_type": "code",
      "metadata": {
        "id": "I5lzDMVrY17h",
        "outputId": "86c5941d-5ab0-4b6a-b5d2-2c89aaf1008b",
        "colab": {
          "base_uri": "https://localhost:8080/",
          "height": 224
        }
      },
      "source": [
        "clus_data= data\n",
        "clus_data['label']=kmeans_predictions\n",
        "clus_data.head()"
      ],
      "execution_count": 29,
      "outputs": [
        {
          "output_type": "execute_result",
          "data": {
            "text/html": [
              "<div>\n",
              "<style scoped>\n",
              "    .dataframe tbody tr th:only-of-type {\n",
              "        vertical-align: middle;\n",
              "    }\n",
              "\n",
              "    .dataframe tbody tr th {\n",
              "        vertical-align: top;\n",
              "    }\n",
              "\n",
              "    .dataframe thead th {\n",
              "        text-align: right;\n",
              "    }\n",
              "</style>\n",
              "<table border=\"1\" class=\"dataframe\">\n",
              "  <thead>\n",
              "    <tr style=\"text-align: right;\">\n",
              "      <th></th>\n",
              "      <th>0</th>\n",
              "      <th>1</th>\n",
              "      <th>2</th>\n",
              "      <th>3</th>\n",
              "      <th>4</th>\n",
              "      <th>5</th>\n",
              "      <th>6</th>\n",
              "      <th>7</th>\n",
              "      <th>8</th>\n",
              "      <th>9</th>\n",
              "      <th>10</th>\n",
              "      <th>11</th>\n",
              "      <th>12</th>\n",
              "      <th>13</th>\n",
              "      <th>14</th>\n",
              "      <th>15</th>\n",
              "      <th>16</th>\n",
              "      <th>17</th>\n",
              "      <th>label</th>\n",
              "    </tr>\n",
              "  </thead>\n",
              "  <tbody>\n",
              "    <tr>\n",
              "      <th>0</th>\n",
              "      <td>-1.684653</td>\n",
              "      <td>0.601267</td>\n",
              "      <td>0.305138</td>\n",
              "      <td>-0.518836</td>\n",
              "      <td>-0.396741</td>\n",
              "      <td>-0.492435</td>\n",
              "      <td>2.085380</td>\n",
              "      <td>-1.329320</td>\n",
              "      <td>-0.733360</td>\n",
              "      <td>-0.978653</td>\n",
              "      <td>0.431937</td>\n",
              "      <td>0.000769</td>\n",
              "      <td>-0.625993</td>\n",
              "      <td>0.466214</td>\n",
              "      <td>0.556369</td>\n",
              "      <td>0.005212</td>\n",
              "      <td>0.014769</td>\n",
              "      <td>0.457994</td>\n",
              "      <td>0</td>\n",
              "    </tr>\n",
              "    <tr>\n",
              "      <th>1</th>\n",
              "      <td>-1.684275</td>\n",
              "      <td>0.309786</td>\n",
              "      <td>0.637779</td>\n",
              "      <td>-0.215019</td>\n",
              "      <td>-0.008992</td>\n",
              "      <td>-0.492435</td>\n",
              "      <td>-0.508529</td>\n",
              "      <td>1.132352</td>\n",
              "      <td>2.240290</td>\n",
              "      <td>-0.978653</td>\n",
              "      <td>-0.672675</td>\n",
              "      <td>-0.493398</td>\n",
              "      <td>-0.215141</td>\n",
              "      <td>0.592475</td>\n",
              "      <td>-0.459671</td>\n",
              "      <td>-0.152121</td>\n",
              "      <td>-0.642001</td>\n",
              "      <td>0.457994</td>\n",
              "      <td>2</td>\n",
              "    </tr>\n",
              "    <tr>\n",
              "      <th>2</th>\n",
              "      <td>-1.683897</td>\n",
              "      <td>-0.031624</td>\n",
              "      <td>-0.692786</td>\n",
              "      <td>0.070195</td>\n",
              "      <td>0.355014</td>\n",
              "      <td>-0.492435</td>\n",
              "      <td>-0.425679</td>\n",
              "      <td>-1.124181</td>\n",
              "      <td>-0.485557</td>\n",
              "      <td>-0.978653</td>\n",
              "      <td>-0.304472</td>\n",
              "      <td>-0.369856</td>\n",
              "      <td>-0.591755</td>\n",
              "      <td>0.592475</td>\n",
              "      <td>-0.641243</td>\n",
              "      <td>-0.068366</td>\n",
              "      <td>-0.642001</td>\n",
              "      <td>0.457994</td>\n",
              "      <td>1</td>\n",
              "    </tr>\n",
              "    <tr>\n",
              "      <th>3</th>\n",
              "      <td>-1.683142</td>\n",
              "      <td>0.027371</td>\n",
              "      <td>0.637779</td>\n",
              "      <td>0.005075</td>\n",
              "      <td>-0.396741</td>\n",
              "      <td>0.747309</td>\n",
              "      <td>-0.508529</td>\n",
              "      <td>0.311796</td>\n",
              "      <td>-0.733360</td>\n",
              "      <td>0.462241</td>\n",
              "      <td>-0.672675</td>\n",
              "      <td>-0.493398</td>\n",
              "      <td>-0.352091</td>\n",
              "      <td>-0.846900</td>\n",
              "      <td>-0.232588</td>\n",
              "      <td>0.477120</td>\n",
              "      <td>-0.642001</td>\n",
              "      <td>0.457994</td>\n",
              "      <td>2</td>\n",
              "    </tr>\n",
              "    <tr>\n",
              "      <th>4</th>\n",
              "      <td>-1.682764</td>\n",
              "      <td>-0.459957</td>\n",
              "      <td>0.637779</td>\n",
              "      <td>2.267571</td>\n",
              "      <td>2.814206</td>\n",
              "      <td>0.147652</td>\n",
              "      <td>-0.508529</td>\n",
              "      <td>1.132352</td>\n",
              "      <td>2.240290</td>\n",
              "      <td>1.491452</td>\n",
              "      <td>-0.672675</td>\n",
              "      <td>-0.493398</td>\n",
              "      <td>1.565218</td>\n",
              "      <td>2.107606</td>\n",
              "      <td>1.213483</td>\n",
              "      <td>-0.303856</td>\n",
              "      <td>2.313469</td>\n",
              "      <td>0.457994</td>\n",
              "      <td>3</td>\n",
              "    </tr>\n",
              "  </tbody>\n",
              "</table>\n",
              "</div>"
            ],
            "text/plain": [
              "          0         1         2         3  ...        15        16        17  label\n",
              "0 -1.684653  0.601267  0.305138 -0.518836  ...  0.005212  0.014769  0.457994      0\n",
              "1 -1.684275  0.309786  0.637779 -0.215019  ... -0.152121 -0.642001  0.457994      2\n",
              "2 -1.683897 -0.031624 -0.692786  0.070195  ... -0.068366 -0.642001  0.457994      1\n",
              "3 -1.683142  0.027371  0.637779  0.005075  ...  0.477120 -0.642001  0.457994      2\n",
              "4 -1.682764 -0.459957  0.637779  2.267571  ... -0.303856  2.313469  0.457994      3\n",
              "\n",
              "[5 rows x 19 columns]"
            ]
          },
          "metadata": {
            "tags": []
          },
          "execution_count": 29
        }
      ]
    },
    {
      "cell_type": "code",
      "metadata": {
        "id": "1znAd-mKR8JU",
        "outputId": "873f0e4f-9ca3-4258-f382-967b6e9fb559",
        "colab": {
          "base_uri": "https://localhost:8080/"
        }
      },
      "source": [
        "labels = kmeans.labels_\n",
        "labels"
      ],
      "execution_count": 30,
      "outputs": [
        {
          "output_type": "execute_result",
          "data": {
            "text/plain": [
              "array([0, 2, 1, ..., 1, 1, 1], dtype=int32)"
            ]
          },
          "metadata": {
            "tags": []
          },
          "execution_count": 30
        }
      ]
    },
    {
      "cell_type": "markdown",
      "metadata": {
        "id": "x-kyNX6Ed_Sx"
      },
      "source": [
        "#### Showing the Predictions"
      ]
    },
    {
      "cell_type": "code",
      "metadata": {
        "id": "qz68w7jAA1bD",
        "outputId": "05d3408f-a239-4afa-b73b-24cb5435330b",
        "colab": {
          "base_uri": "https://localhost:8080/"
        }
      },
      "source": [
        "from sklearn.decomposition import PCA\n",
        "pca = PCA(2)\n",
        "principalComponents = pca.fit_transform(data)\n",
        "x, y = principalComponents[:, 0], principalComponents[:, 1]\n",
        "print(principalComponents.shape)\n",
        "\n",
        "colors = {0: 'red', 1: 'blue', 2: 'green', 3: 'yellow'}"
      ],
      "execution_count": 31,
      "outputs": [
        {
          "output_type": "stream",
          "text": [
            "(5942, 2)\n"
          ],
          "name": "stdout"
        }
      ]
    },
    {
      "cell_type": "code",
      "metadata": {
        "id": "4zP6TDlyS8jf"
      },
      "source": [
        "new_data = pd.DataFrame({'x': x, 'y':y, 'label':labels}) \n",
        "groups = new_data.groupby(labels)"
      ],
      "execution_count": 32,
      "outputs": []
    },
    {
      "cell_type": "code",
      "metadata": {
        "id": "0EfVOjWZBGSU",
        "outputId": "fe835e2d-fd11-4ca1-b16c-f98350d3596f",
        "colab": {
          "base_uri": "https://localhost:8080/",
          "height": 607
        }
      },
      "source": [
        "fig, ax = plt.subplots(figsize=(20, 10)) \n",
        "\n",
        "for name, group in groups:\n",
        "    ax.plot(group.x, group.y, marker='o', linestyle='', ms=5, color=colors[name], mec='none')\n",
        "    ax.set_aspect('auto')\n",
        "    ax.tick_params(axis='x',which='both',bottom='off',top='off',labelbottom='off')\n",
        "    ax.tick_params(axis= 'y',which='both',left='off',top='off',labelleft='off')\n",
        "ax.set_title(\"Customer Segmentation based on Credit Card usage\")\n",
        "plt.show()"
      ],
      "execution_count": 33,
      "outputs": [
        {
          "output_type": "display_data",
          "data": {
            "image/png": "[encoded data removed]",
            "text/plain": [
              "<Figure size 1440x720 with 1 Axes>"
            ]
          },
          "metadata": {
            "tags": [],
            "needs_background": "light"
          }
        }
      ]
    },
    {
      "cell_type": "markdown",
      "metadata": {
        "id": "czziK0hBjy8w"
      },
      "source": [
        ""
      ]
    }
  ]
}